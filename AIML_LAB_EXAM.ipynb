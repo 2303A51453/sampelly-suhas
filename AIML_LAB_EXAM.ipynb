{
  "nbformat": 4,
  "nbformat_minor": 0,
  "metadata": {
    "colab": {
      "provenance": [],
      "authorship_tag": "ABX9TyPLWUXK0TG/F4772qTniPyr",
      "include_colab_link": true
    },
    "kernelspec": {
      "name": "python3",
      "display_name": "Python 3"
    },
    "language_info": {
      "name": "python"
    }
  },
  "cells": [
    {
      "cell_type": "markdown",
      "metadata": {
        "id": "view-in-github",
        "colab_type": "text"
      },
      "source": [
        "<a href=\"https://colab.research.google.com/github/2303A51453/sampelly-suhas/blob/main/AIML_LAB_EXAM.ipynb\" target=\"_parent\"><img src=\"https://colab.research.google.com/assets/colab-badge.svg\" alt=\"Open In Colab\"/></a>"
      ]
    },
    {
      "cell_type": "code",
      "execution_count": 8,
      "metadata": {
        "colab": {
          "base_uri": "https://localhost:8080/"
        },
        "id": "xyLo7bmzdW9X",
        "outputId": "a561aaf1-9464-47c0-fa82-126f04112b07"
      },
      "outputs": [
        {
          "output_type": "stream",
          "name": "stdout",
          "text": [
            "Features: ['buying', 'maint', 'doors', 'persons', 'lug_boot', 'safety']\n",
            "Labels: {'unacc', 'acc', 'good', 'vgood'}\n",
            "Accuracy: 0.9383429672447013\n",
            "Precision: 0.9417370218645881\n",
            "Recall: 0.9383429672447013\n"
          ]
        }
      ],
      "source": [
        "import openml\n",
        "from sklearn.model_selection import train_test_split\n",
        "from sklearn import svm\n",
        "from sklearn import metrics\n",
        "from sklearn.preprocessing import OneHotEncoder\n",
        "from sklearn.pipeline import make_pipeline\n",
        "from sklearn.compose import ColumnTransformer\n",
        "car_data = openml.datasets.get_dataset(21)\n",
        "X, y, _, attribute_names = car_data.get_data(target=car_data.default_target_attribute)\n",
        "print(\"Features:\", attribute_names)\n",
        "print(\"Labels:\", set(y))\n",
        "preprocessor = ColumnTransformer(\n",
        "    transformers=[\n",
        "        ('cat', OneHotEncoder(), list(range(X.shape[1])))\n",
        "    ])\n",
        "X_train, X_test, y_train, y_test = train_test_split(X, y, test_size=0.3, random_state=109)\n",
        "clf = make_pipeline(preprocessor, svm.SVC(kernel='linear'))\n",
        "clf.fit(X_train, y_train)\n",
        "y_pred = clf.predict(X_test)\n",
        "print(\"Accuracy:\", metrics.accuracy_score(y_test, y_pred))\n",
        "print(\"Precision:\", metrics.precision_score(y_test, y_pred, average='weighted'))\n",
        "print(\"Recall:\", metrics.recall_score(y_test, y_pred, average='weighted'))"
      ]
    }
  ]
}